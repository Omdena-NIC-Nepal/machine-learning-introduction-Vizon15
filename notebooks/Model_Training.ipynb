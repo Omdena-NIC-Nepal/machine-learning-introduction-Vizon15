{
 "cells": [
  {
   "cell_type": "markdown",
   "metadata": {},
   "source": [
    "### 3. Model Building and Training\n",
    "\n",
    "#### Task 3: Model Training\n",
    "\n",
    "Notebook: notebooks/Model_Training.ipynb\n",
    "Steps:\n",
    "\n",
    "- Choose appropriate features for the model.\n",
    "- Train a linear regression model.\n",
    "- Perform hyperparameter tuning (if applicable).\n",
    "\n",
    "- Script: scripts/train_model.py\n"
   ]
  },
  {
   "cell_type": "code",
   "execution_count": 2,
   "metadata": {},
   "outputs": [
    {
     "name": "stdout",
     "output_type": "stream",
     "text": [
      "Train-Test Split Complete\n",
      "Training Set Size: (170, 13)\n",
      "Testing Set Size: (43, 13)\n",
      "Model Coefficients: [ 1.53057136e-01  3.06168521e-01 -1.06016681e-01  8.88178420e-16\n",
      " -3.64374162e-01  1.94145844e+00 -1.30570677e+00 -1.60895754e+00\n",
      "  7.48661330e-01 -8.66184053e-01 -9.63797424e-01 -8.11177953e-02\n",
      " -3.89674639e-01]\n",
      "Model Intercept: 22.110035725827643\n",
      "Training RMSE: 2.12\n",
      "Testing RMSE: 2.22\n",
      "R-squared: 0.68\n",
      "Predicted Prices: [18.83185683 17.24406412 22.99501443 19.53202966 25.40250153]\n",
      "Best Hyperparameters: {'alpha': 10.0}\n",
      "Model Saved Successfully\n"
     ]
    }
   ],
   "source": [
    "# Step 1: Import Required Libraries\n",
    "import pandas as pd\n",
    "import numpy as np\n",
    "from sklearn.linear_model import LinearRegression\n",
    "from sklearn.model_selection import train_test_split, GridSearchCV\n",
    "from sklearn.metrics import mean_squared_error, r2_score\n",
    "import joblib\n",
    "\n",
    "# Step 2: Load Preprocessed Data\n",
    "file_path = \"../data/processed_boston_housing.csv\"  # Path to preprocessed dataset\n",
    "data = pd.read_csv(file_path)\n",
    "\n",
    "# Define target column and features\n",
    "target_column = 'medv'  # Target variable\n",
    "features = [col for col in data.columns if col != target_column]\n",
    "\n",
    "# Step 3: Train-Test Split\n",
    "X = data[features]\n",
    "y = data[target_column]\n",
    "X_train, X_test, y_train, y_test = train_test_split(X, y, test_size=0.2, random_state=42)\n",
    "\n",
    "print(\"Train-Test Split Complete\")\n",
    "print(f\"Training Set Size: {X_train.shape}\")\n",
    "print(f\"Testing Set Size: {X_test.shape}\")\n",
    "\n",
    "# Step 4: Train a Linear Regression Model\n",
    "model = LinearRegression()\n",
    "model.fit(X_train, y_train)\n",
    "\n",
    "# Evaluate model performance on training and testing sets\n",
    "train_predictions = model.predict(X_train)\n",
    "test_predictions = model.predict(X_test)\n",
    "\n",
    "train_rmse = np.sqrt(mean_squared_error(y_train, train_predictions))\n",
    "test_rmse = np.sqrt(mean_squared_error(y_test, test_predictions))\n",
    "r2 = r2_score(y_test, test_predictions)\n",
    "\n",
    "print(\"Model Coefficients:\", model.coef_)\n",
    "print(\"Model Intercept:\", model.intercept_)\n",
    "print(f\"Training RMSE: {train_rmse:.2f}\")\n",
    "print(f\"Testing RMSE: {test_rmse:.2f}\")\n",
    "print(f\"R-squared: {r2:.2f}\")\n",
    "\n",
    "# Make predictions on the test set\n",
    "y_pred = model.predict(X_test)\n",
    "\n",
    "# Print first five predictions\n",
    "print(\"Predicted Prices:\", y_pred[:5])\n",
    "\n",
    "# Step 5: Hyperparameter Tuning (if applicable)\n",
    "# Linear regression has no major hyperparameters, but if using Ridge or Lasso regression:\n",
    "from sklearn.linear_model import Ridge\n",
    "ridge_model = Ridge()\n",
    "param_grid = {'alpha': [0.1, 1.0, 10.0]}  # Example parameter grid\n",
    "grid_search = GridSearchCV(ridge_model, param_grid, cv=5, scoring='neg_mean_squared_error')\n",
    "grid_search.fit(X_train, y_train)\n",
    "\n",
    "print(\"Best Hyperparameters:\", grid_search.best_params_)\n",
    "\n",
    "# Save the model\n",
    "joblib.dump(grid_search.best_estimator_, \"../models/linear_model.pkl\")\n",
    "print(\"Model Saved Successfully\")\n"
   ]
  },
  {
   "cell_type": "code",
   "execution_count": null,
   "metadata": {},
   "outputs": [],
   "source": []
  }
 ],
 "metadata": {
  "kernelspec": {
   "display_name": "gis_env",
   "language": "python",
   "name": "python3"
  },
  "language_info": {
   "codemirror_mode": {
    "name": "ipython",
    "version": 3
   },
   "file_extension": ".py",
   "mimetype": "text/x-python",
   "name": "python",
   "nbconvert_exporter": "python",
   "pygments_lexer": "ipython3",
   "version": "3.11.11"
  }
 },
 "nbformat": 4,
 "nbformat_minor": 2
}
