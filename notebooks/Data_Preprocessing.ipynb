{
 "cells": [
  {
   "cell_type": "code",
   "execution_count": 6,
   "metadata": {},
   "outputs": [],
   "source": [
    "# Import necessary libraries\n",
    "\n",
    "import pandas as pd\n",
    "import numpy as np\n",
    "import matplotlib\n",
    "import seaborn as sns\n",
    "from matplotlib import pyplot as plt\n",
    "matplotlib.rcParams[\"figure.figsize\"] = (20, 10)"
   ]
  },
  {
   "cell_type": "markdown",
   "metadata": {},
   "source": [
    "#### Task 2: Data Preprocessing\n"
   ]
  },
  {
   "cell_type": "markdown",
   "metadata": {},
   "source": [
    "Notebook: notebooks/Data_Preprocessing.ipynb\n",
    "Steps:\n",
    "\n",
    "- Handle missing values and outliers.\n",
    "- Encode categorical variables.\n",
    "- Normalize/standardize numerical features.\n",
    "- Split the data into training and testing sets.\n",
    "- Script: scripts/data_preprocessing.py\n"
   ]
  },
  {
   "cell_type": "markdown",
   "metadata": {},
   "source": []
  },
  {
   "cell_type": "code",
   "execution_count": 7,
   "metadata": {},
   "outputs": [
    {
     "name": "stdout",
     "output_type": "stream",
     "text": [
      "Data Loaded Successfully\n",
      "Missing Values Handled With Simple Imputer(Mean)\n",
      "Outliers Handled\n",
      "Categorical Variables Encoded\n",
      "Numerical Features Normalized\n",
      "Training and Testing Data Split\n",
      "Processed Data Saved to ../data/processed_boston_housing.csv\n",
      "Training Set Size: (170, 13)\n",
      "Testing Set Size: (43, 13)\n"
     ]
    }
   ],
   "source": [
    "# Data Preprocessing Workflow\n",
    "# Import necessary libraries\n",
    "\n",
    "from sklearn.model_selection import train_test_split\n",
    "from sklearn.preprocessing import StandardScaler, LabelEncoder\n",
    "from sklearn.impute import SimpleImputer\n",
    "\n",
    "# Step 1: Load the data\n",
    "# File Path\n",
    "file_path = \"../data/BostonHousing.csv\"\n",
    "data = pd.read_csv(file_path)\n",
    "print(\"Data Loaded Successfully\")\n",
    "\n",
    "# Step 2: Handle Missing Values\n",
    "def handle_missing_values(data):\n",
    "    \"\"\"Handles missing values using SimpleImputer.\"\"\"\n",
    "    imputer = SimpleImputer(strategy=\"median\")\n",
    "    numerical_cols = [col for col in data.columns if pd.api.types.is_numeric_dtype(data[col])]\n",
    "    data[numerical_cols] = imputer.fit_transform(data[numerical_cols])\n",
    "    return data\n",
    "\n",
    "data = handle_missing_values(data)\n",
    "print(\"Missing Values Handled With Simple Imputer(Median)\")\n",
    "\n",
    "# Step 3: Handle Outliers\n",
    "def handle_outliers(data):\n",
    "    \"\"\"Handle outliers using the IQR method.\"\"\"\n",
    "    for col in data.columns:\n",
    "        if pd.api.types.is_numeric_dtype(data[col]):\n",
    "            Q1 = data[col].quantile(0.25)\n",
    "            Q3 = data[col].quantile(0.75)\n",
    "            IQR = Q3 - Q1\n",
    "            lower_bound = Q1 - 1.5 * IQR\n",
    "            upper_bound = Q3 + 1.5 * IQR\n",
    "            data = data[(data[col] >= lower_bound) & (data[col] <= upper_bound)]\n",
    "    return data\n",
    "\n",
    "data = handle_outliers(data)\n",
    "print(\"Outliers Handled\")\n",
    "\n",
    "# Step 4: Encode Categorical Variables\n",
    "def encode_categorical_variables(data):\n",
    "    \"\"\"Encodes categorical variables using LabelEncoder.\"\"\"\n",
    "    if 'chas' in data.columns:  # 'chas' is a binary categorical column\n",
    "        le = LabelEncoder()\n",
    "        data['chas'] = le.fit_transform(data['chas'])\n",
    "    return data\n",
    "\n",
    "data = encode_categorical_variables(data)\n",
    "print(\"Categorical Variables Encoded\")\n",
    "\n",
    "# Step 5: Normalize Numerical Features\n",
    "def normalize_numerical_features(data, target_column):\n",
    "    \"\"\"Normalize numerical features using StandardScaler.\"\"\"\n",
    "    scaler = StandardScaler()\n",
    "    numerical_features = [col for col in data.columns if pd.api.types.is_numeric_dtype(data[col]) and col != target_column]\n",
    "    data[numerical_features] = scaler.fit_transform(data[numerical_features])\n",
    "    return data\n",
    "\n",
    "target_column = 'medv'  # Target variable\n",
    "data = normalize_numerical_features(data, target_column)\n",
    "print(\"Numerical Features Normalized\")\n",
    "\n",
    "# Step 6: Split Data into Training and Testing Sets\n",
    "def split_data(data, target_column, test_size=0.2, random_state=42):\n",
    "    \"\"\"Splits the dataset into training and testing sets.\"\"\"\n",
    "    X = data.drop(target_column, axis=1)\n",
    "    y = data[target_column]\n",
    "    X_train, X_test, y_train, y_test = train_test_split(X, y, test_size=test_size, random_state=random_state)\n",
    "    return X_train, X_test, y_train, y_test\n",
    "\n",
    "X_train, X_test, y_train, y_test = split_data(data, target_column)\n",
    "print(\"Training and Testing Data Split\")\n",
    "\n",
    "# Step 7: Save Preprocessed Data\n",
    "processed_file_path = \"../data/processed_boston_housing.csv\"\n",
    "data.to_csv(processed_file_path, index=False)\n",
    "print(f\"Processed Data Saved to {processed_file_path}\")\n",
    "\n",
    "# Summary\n",
    "print(f\"Training Set Size: {X_train.shape}\")\n",
    "print(f\"Testing Set Size: {X_test.shape}\")\n"
   ]
  },
  {
   "cell_type": "code",
   "execution_count": null,
   "metadata": {},
   "outputs": [],
   "source": []
  }
 ],
 "metadata": {
  "kernelspec": {
   "display_name": "gis_env",
   "language": "python",
   "name": "python3"
  },
  "language_info": {
   "codemirror_mode": {
    "name": "ipython",
    "version": 3
   },
   "file_extension": ".py",
   "mimetype": "text/x-python",
   "name": "python",
   "nbconvert_exporter": "python",
   "pygments_lexer": "ipython3",
   "version": "3.11.11"
  }
 },
 "nbformat": 4,
 "nbformat_minor": 2
}
